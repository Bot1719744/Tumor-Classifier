{
  "nbformat": 4,
  "nbformat_minor": 0,
  "metadata": {
    "colab": {
      "provenance": []
    },
    "kernelspec": {
      "name": "python3",
      "display_name": "Python 3"
    },
    "language_info": {
      "name": "python"
    }
  },
  "cells": [
    {
      "cell_type": "markdown",
      "source": [
        "#Libraries"
      ],
      "metadata": {
        "id": "dKS4EHjGRN6T"
      }
    },
    {
      "cell_type": "code",
      "source": [
        "import numpy as np\n",
        "import tensorflow as tf\n",
        "from tensorflow.keras.applications import ResNet50\n",
        "from tensorflow.keras.models import Model\n",
        "from tensorflow.keras.layers import GlobalAveragePooling2D, Dense\n",
        "from tensorflow.keras.preprocessing.image import ImageDataGenerator\n",
        "\n",
        "from sklearn.metrics import classification_report, confusion_matrix"
      ],
      "metadata": {
        "id": "9c-bnertRWow"
      },
      "execution_count": null,
      "outputs": []
    },
    {
      "cell_type": "markdown",
      "source": [
        "#Data pre-processing"
      ],
      "metadata": {
        "id": "hHpctVOdRYDT"
      }
    },
    {
      "cell_type": "code",
      "source": [
        "# Define the preprocessing function for MRI images\n",
        "def preprocess_image(image):\n",
        "    image = tf.image.resize(image, [224, 224])  # Resize images to 224x224\n",
        "    image = tf.image.grayscale_to_rgb(image)  # Convert grayscale to RGB\n",
        "    return image / 255.0"
      ],
      "metadata": {
        "id": "NL1ovcvORcqY"
      },
      "execution_count": null,
      "outputs": []
    },
    {
      "cell_type": "markdown",
      "source": [
        "#Setup datasets"
      ],
      "metadata": {
        "id": "Sv_aefE0RfrL"
      }
    },
    {
      "cell_type": "code",
      "source": [
        "# Data augmentation and preparation using ImageDataGenerator\n",
        "train_datagen = ImageDataGenerator(\n",
        "    preprocessing_function=preprocess_image,\n",
        "    rotation_range=20,\n",
        "    width_shift_range=0.2,\n",
        "    height_shift_range=0.2,\n",
        "    shear_range=0.2,\n",
        "    zoom_range=0.2,\n",
        "    horizontal_flip=True,\n",
        "    fill_mode='nearest'\n",
        ")\n",
        "\n",
        "validation_datagen = ImageDataGenerator(preprocessing_function=preprocess_image)\n",
        "\n",
        "# Setup data generators\n",
        "train_generator = train_datagen.flow_from_directory(\n",
        "    'path_to_train_dir',  # Update with training directory path\n",
        "    target_size=(224, 224),\n",
        "    batch_size=32,\n",
        "    class_mode='binary'\n",
        ")\n",
        "\n",
        "validation_generator = validation_datagen.flow_from_directory(\n",
        "    'path_to_validation_dir',  # Update with validation directory path\n",
        "    target_size=(224, 224),\n",
        "    batch_size=32,\n",
        "    class_mode='binary'\n",
        ")"
      ],
      "metadata": {
        "id": "6VNsTyxvRh4x"
      },
      "execution_count": null,
      "outputs": []
    },
    {
      "cell_type": "markdown",
      "source": [
        "#Train Model"
      ],
      "metadata": {
        "id": "6vMrk2P5RkNJ"
      }
    },
    {
      "cell_type": "code",
      "source": [
        "# Load ResNet50 with pre-trained ImageNet weights, exclude top layer\n",
        "base_model = ResNet50(weights='imagenet', include_top=False, input_shape=(224, 224, 3))\n",
        "\n",
        "# Freeze the convolutional base\n",
        "for layer in base_model.layers:\n",
        "    layer.trainable = False\n",
        "\n",
        "# Adding custom layers on top of ResNet50\n",
        "x = base_model.output\n",
        "x = GlobalAveragePooling2D()(x)\n",
        "x = Dense(1024, activation='relu')(x)\n",
        "predictions = Dense(1, activation='sigmoid')(x)\n",
        "\n",
        "# Final model setup\n",
        "model = Model(inputs=base_model.input, outputs=predictions)\n",
        "\n",
        "model.compile(optimizer='adam', loss='binary_crossentropy', metrics=['accuracy'])\n",
        "\n",
        "# Training the model\n",
        "history = model.fit(\n",
        "    train_generator,\n",
        "    epochs=10,\n",
        "    validation_data=validation_generator\n",
        ")"
      ],
      "metadata": {
        "id": "7Essf4t6Rpc9"
      },
      "execution_count": null,
      "outputs": []
    },
    {
      "cell_type": "markdown",
      "source": [
        "#Evaluation"
      ],
      "metadata": {
        "id": "Ex5Kz_tqR0Kz"
      }
    },
    {
      "cell_type": "code",
      "source": [
        "# Evaluate model on test data\n",
        "test_loss, test_accuracy = model.evaluate(test_generator)\n",
        "print(\"Test accuracy:\", test_accuracy)\n",
        "print(\"Test loss:\", test_loss)\n",
        "\n",
        "\n",
        "# Predictions\n",
        "predictions = model.predict(test_generator)\n",
        "predicted_classes = np.where(predictions > 0.5, 1, 0)\n",
        "\n",
        "# True labels\n",
        "true_classes = test_generator.classes\n",
        "\n",
        "# Confusion Matrix and Classification Report\n",
        "cm = confusion_matrix(true_classes, predicted_classes)\n",
        "print(\"Confusion Matrix:\\n\", cm)\n",
        "\n",
        "report = classification_report(true_classes, predicted_classes, target_names=['Negative', 'Positive'])\n",
        "print(\"Classification Report:\\n\", report)\n"
      ],
      "metadata": {
        "id": "fDvwP9YOR2H6"
      },
      "execution_count": null,
      "outputs": []
    }
  ]
}